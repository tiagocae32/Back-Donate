{
  "cells": [
    {
      "cell_type": "markdown",
      "metadata": {
        "id": "view-in-github",
        "colab_type": "text"
      },
      "source": [
        "<a href=\"https://colab.research.google.com/github/tiagocae32/Back-Donate/blob/master/index.ipynb\" target=\"_parent\"><img src=\"https://colab.research.google.com/assets/colab-badge.svg\" alt=\"Open In Colab\"/></a>"
      ]
    },
    {
      "cell_type": "code",
      "execution_count": null,
      "id": "f4cf4ce4",
      "metadata": {
        "id": "f4cf4ce4"
      },
      "outputs": [],
      "source": [
        "import pandas as pd\n",
        "import numpy as np\n",
        "\n",
        "\n",
        "### Numpy\n",
        "\n",
        "\n",
        "### 1\n",
        "\n",
        "ciudades = np.array([\n",
        "    [\"Buenos Aires\", \"CABA\", \"3070\", \"1580\"],\n",
        "    [\"Córdoba\", \"Córdoba\", \"1390\", \"1573\"],\n",
        "    [\"Rosario\", \"Santa Fe\", \"1170\", \"1689\"],\n",
        "    [\"Mendoza\", \"Mendoza\", \"937\", \"1561\"],\n",
        "    [\"La Plata\", \"Buenos Aires\", \"740\", \"1882\"]\n",
        "])\n",
        "\n",
        "\n",
        "#### 2\n",
        "poblaciones = ciudades[:, 2].astype(int)\n",
        "\n",
        "media = np.mean(poblaciones)\n",
        "print(f\"La población media de las ciudades es: {media} miles de habitantes.\")\n",
        "\n",
        "mediana = np.median(poblaciones)\n",
        "print(f\"La mediana de la población de las ciudades es: {mediana} miles de habitantes.\")\n",
        "\n",
        "desviacion_estandar = np.std(poblaciones)\n",
        "print(f\"La desviación estándar de la población de las ciudades es: {desviacion_estandar} miles de habitantes.\")\n",
        "\n",
        "\n",
        "#### 3\n",
        "años_fundacion = ciudades[:, 3].astype(int)\n",
        "mas_antigua = np.min(años_fundacion)\n",
        "ciudad_mas_antigua = ciudades[np.argmin(años_fundacion), 0]\n",
        "print(f\"La ciudad más antigua es {ciudad_mas_antigua}, fundada en {mas_antigua}.\")\n",
        "\n",
        "\n",
        "### 4\n",
        "\n",
        "matriz = np.column_stack((poblaciones, años_fundacion))\n",
        "suma_columnas = np.sum(matriz, axis=0)\n",
        "print(f\"Suma de poblaciones: {suma_columnas[0]}, Suma de años de fundación: {suma_columnas[1]}\")\n",
        "\n",
        "\n",
        "\n",
        "### Pandas\n",
        "\n",
        "### 1\n",
        "\n",
        "data = {\n",
        "    \"Ciudad\": [\"Buenos Aires\", \"Córdoba\", \"Rosario\", \"Mendoza\", \"La Plata\"],\n",
        "    \"Provincia\": [\"CABA\", \"Córdoba\", \"Santa Fe\", \"Mendoza\", \"Buenos Aires\"],\n",
        "    \"Población (miles)\": [3070, 1390, 1170, 937, 740],\n",
        "    \"Año de fundación\": [1580, 1573, 1689, 1561, 1882],\n",
        "}\n",
        "\n",
        "df = pd.DataFrame(data)\n",
        "\n",
        "\n",
        "## 2\n",
        "siglo_fundacion = (df[\"Año de fundación\"] // 100) + 1\n",
        "df[\"Siglo de fundación\"] = siglo_fundacion\n",
        "\n",
        "\n",
        "### 3\n",
        "\n",
        "ciudad_mayor_poblacion = df.loc[df[\"Población (miles)\"].idxmax()]\n",
        "print(f\"La ciudad con mayor población es {ciudad_mayor_poblacion['Ciudad']} con {ciudad_mayor_poblacion['Población (miles)']} miles de habitantes.\")\n",
        "edad_promedio_provincias = df.groupby(\"Provincia\")[\"Año de fundación\"].mean()\n",
        "print(\"Edad promedio de las provincias:\")\n",
        "print(edad_promedio_provincias)\n",
        "\n",
        "\n",
        "### 4\n",
        "ciudades_menores_1600 = df[df[\"Año de fundación\"] > 1600]\n",
        "print(\"Ciudades fundadas después del año 1600:\")\n",
        "print(ciudades_menores_1600)\n",
        "\n",
        "### 5\n",
        "\n",
        "export_csv = df.to_csv(\"ciudades_arg.csv\", index=False)\n",
        "print(\"Datos exportados a 'ciudades.csv'\")\n"
      ]
    }
  ],
  "metadata": {
    "language_info": {
      "name": "python"
    },
    "colab": {
      "provenance": [],
      "include_colab_link": true
    }
  },
  "nbformat": 4,
  "nbformat_minor": 5
}